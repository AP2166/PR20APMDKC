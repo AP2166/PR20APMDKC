{
 "cells": [
  {
   "cell_type": "code",
   "execution_count": 1,
   "metadata": {},
   "outputs": [],
   "source": [
    "import pandas as pd\n",
    "df = pd.read_excel ('2015-2019 performers.xlsx')\n",
    "import matplotlib.pyplot as plt\n",
    "import numpy as np"
   ]
  },
  {
   "cell_type": "code",
   "execution_count": 2,
   "metadata": {},
   "outputs": [],
   "source": [
    "#df.loc[df['year'] == 2019].sort_values(by=['jury']).tail(10)"
   ]
  },
  {
   "cell_type": "code",
   "execution_count": 3,
   "metadata": {},
   "outputs": [
    {
     "name": "stdout",
     "output_type": "stream",
     "text": [
      "Difference in placements, top 10 - televoting: 2.400\n",
      "Difference in placements, top 10  - jury: 4.600\n",
      "Difference in placements, all placements - televoting: 3.615\n",
      "Difference in placements, all placements - jury: 3.231\n",
      "Difference between jury and televoting placements, top 10: 5.800\n",
      "Difference between jury and televoting placements, all countries: 6.231\n"
     ]
    }
   ],
   "source": [
    "def diffPlacement(year):\n",
    "    data = df.loc[df['year']==year]\n",
    "    final_placements = dict()\n",
    "    final = []\n",
    "    jury = []\n",
    "    televoting = []\n",
    "\n",
    "    for i, j in data.iterrows():\n",
    "        #print(j[1])\n",
    "        final_placements[j[1]] = j[14]\n",
    "        jury.append((j[16], j[1]))\n",
    "        televoting.append((j[15], j[1]))\n",
    "        final.append((j[17], j[1]))\n",
    "\n",
    "    jury = sorted(jury)[::-1]\n",
    "    televoting = sorted(televoting)[::-1]\n",
    "\n",
    "    jury_placements = dict()\n",
    "    televoting_placements = dict()\n",
    "    mesto = 1\n",
    "    for poeni, zemja in jury:\n",
    "        jury_placements[zemja] = mesto\n",
    "        mesto+=1\n",
    "    mesto = 1    \n",
    "    for poeni, zemja in televoting:\n",
    "        televoting_placements[zemja] = mesto\n",
    "        mesto+=1\n",
    "    \n",
    "    razlika_ziri = 0\n",
    "    razlika_ziri_site = 0\n",
    "    razlika_tele = 0\n",
    "    razlika_tele_site = 0\n",
    "    razlika_tele_ziri_10 = 0\n",
    "    razlika_tele_ziri_site = 0\n",
    "    for zemja, mesto in final_placements.items():\n",
    "        if mesto < 11:\n",
    "            razlika_ziri = razlika_ziri + abs(mesto - jury_placements[zemja])\n",
    "            razlika_tele = razlika_tele + abs(mesto - televoting_placements[zemja])\n",
    "            razlika_tele_ziri_10 = razlika_tele_ziri_10 + (abs(jury_placements[zemja] - televoting_placements[zemja]))\n",
    "        razlika_ziri_site = razlika_ziri_site + abs(mesto - jury_placements[zemja])\n",
    "        razlika_tele_site = razlika_tele_site + abs(mesto - televoting_placements[zemja]) \n",
    "        razlika_tele_ziri_site = razlika_tele_ziri_site + abs(jury_placements[zemja] - televoting_placements[zemja])\n",
    "    print(\"Difference in placements, top 10 - televoting: %.3f\" % (razlika_tele/10))  \n",
    "    print(\"Difference in placements, top 10  - jury: %.3f\" % (razlika_ziri/10))\n",
    "    print(\"Difference in placements, all placements - televoting: %.3f\" % (razlika_tele_site/len(televoting)))  \n",
    "    print(\"Difference in placements, all placements - jury: %.3f\" % (razlika_ziri_site/len(televoting)))  \n",
    "    print(\"Difference between jury and televoting placements, top 10: %.3f\" % (razlika_tele_ziri_10/10))\n",
    "    print(\"Difference between jury and televoting placements, all countries: %.3f\" % (razlika_tele_ziri_site/len(televoting)))\n",
    "          \n",
    "          \n",
    "    \n",
    "diffPlacement(2019)    "
   ]
  },
  {
   "cell_type": "code",
   "execution_count": 4,
   "metadata": {},
   "outputs": [
    {
     "name": "stdout",
     "output_type": "stream",
     "text": [
      "Difference in placements, top 10 - televoting: 3.900\n",
      "Difference in placements, top 10  - jury: 4.700\n",
      "Difference in placements, all placements - televoting: 3.692\n",
      "Difference in placements, all placements - jury: 3.846\n",
      "Difference between jury and televoting placements, top 10: 8.600\n",
      "Difference between jury and televoting placements, all countries: 7.154\n"
     ]
    }
   ],
   "source": [
    "diffPlacement(2018)"
   ]
  },
  {
   "cell_type": "code",
   "execution_count": 5,
   "metadata": {},
   "outputs": [
    {
     "name": "stdout",
     "output_type": "stream",
     "text": [
      "Difference in placements, top 10 - televoting: 2.700\n",
      "Difference in placements, top 10  - jury: 3.800\n",
      "Difference in placements, all placements - televoting: 3.692\n",
      "Difference in placements, all placements - jury: 3.385\n",
      "Difference between jury and televoting placements, top 10: 6.500\n",
      "Difference between jury and televoting placements, all countries: 6.692\n"
     ]
    }
   ],
   "source": [
    "diffPlacement(2017)"
   ]
  },
  {
   "cell_type": "code",
   "execution_count": 6,
   "metadata": {},
   "outputs": [
    {
     "name": "stdout",
     "output_type": "stream",
     "text": [
      "Difference in placements, top 10 - televoting: 2.200\n",
      "Difference in placements, top 10  - jury: 4.200\n",
      "Difference in placements, all placements - televoting: 3.231\n",
      "Difference in placements, all placements - jury: 4.077\n",
      "Difference between jury and televoting placements, top 10: 5.600\n",
      "Difference between jury and televoting placements, all countries: 6.769\n"
     ]
    }
   ],
   "source": [
    "diffPlacement(2016)"
   ]
  },
  {
   "cell_type": "code",
   "execution_count": 7,
   "metadata": {},
   "outputs": [
    {
     "name": "stdout",
     "output_type": "stream",
     "text": [
      "Standard deviation of jury points: 81.845\n",
      "Standard deviation of televoting points: 90.112\n",
      "Standard deviation of final points: 146.076\n"
     ]
    },
    {
     "data": {
      "image/png": "[encoded data removed]",
      "text/plain": [
       "<Figure size 432x288 with 1 Axes>"
      ]
     },
     "metadata": {
      "needs_background": "light"
     },
     "output_type": "display_data"
    },
    {
     "data": {
      "image/png": "[encoded data removed]",
      "text/plain": [
       "<Figure size 432x288 with 1 Axes>"
      ]
     },
     "metadata": {
      "needs_background": "light"
     },
     "output_type": "display_data"
    },
    {
     "data": {
      "image/png": "[encoded data removed]",
      "text/plain": [
       "<Figure size 432x288 with 1 Axes>"
      ]
     },
     "metadata": {
      "needs_background": "light"
     },
     "output_type": "display_data"
    }
   ],
   "source": [
    "def stdev(nums):\n",
    "    diffs = 0\n",
    "    avg = 0\n",
    "    stdv = 0\n",
    "    \n",
    "    if(nums):\n",
    "        avg = sum(nums)/len(nums)\n",
    "    for n in nums:\n",
    "        diffs += (n - avg)**(2)\n",
    "    if(len(nums)>1):\n",
    "        stdv = (diffs/(len(nums)-1))**(0.5)    \n",
    "    return stdv\n",
    "\n",
    "def pointDistribution(year):\n",
    "    data = df.loc[df['year']==year]\n",
    "    final = []\n",
    "    jury = []\n",
    "    televoting = []\n",
    "\n",
    "    for i, j in data.iterrows():\n",
    "        jury.append(j[16])\n",
    "        televoting.append(j[15])\n",
    "        final.append(j[17])\n",
    "        \n",
    "    print(\"Standard deviation of jury points: %.3f\" % stdev(jury))\n",
    "    print(\"Standard deviation of televoting points: %.3f\" % stdev(televoting))\n",
    "    print(\"Standard deviation of final points: %.3f\" % stdev(final))\n",
    "    \n",
    "    plt.hist(jury, 20, facecolor='blue', alpha=0.5)\n",
    "    plt.show()\n",
    "    plt.hist(televoting, 20, facecolor='orange', alpha=0.5)\n",
    "    plt.show()\n",
    "    plt.hist(final, 40, facecolor='green', alpha=0.5)\n",
    "    plt.show()\n",
    "pointDistribution(2019)"
   ]
  },
  {
   "cell_type": "code",
   "execution_count": 8,
   "metadata": {},
   "outputs": [
    {
     "name": "stdout",
     "output_type": "stream",
     "text": [
      "Standard deviation of jury points: 73.832\n",
      "Standard deviation of televoting points: 83.492\n",
      "Standard deviation of final points: 124.757\n"
     ]
    },
    {
     "data": {
      "image/png": "[encoded data removed]",
      "text/plain": [
       "<Figure size 432x288 with 1 Axes>"
      ]
     },
     "metadata": {
      "needs_background": "light"
     },
     "output_type": "display_data"
    },
    {
     "data": {
      "image/png": "[encoded data removed]",
      "text/plain": [
       "<Figure size 432x288 with 1 Axes>"
      ]
     },
     "metadata": {
      "needs_background": "light"
     },
     "output_type": "display_data"
    },
    {
     "data": {
      "image/png": "[encoded data removed]",
      "text/plain": [
       "<Figure size 432x288 with 1 Axes>"
      ]
     },
     "metadata": {
      "needs_background": "light"
     },
     "output_type": "display_data"
    }
   ],
   "source": [
    "pointDistribution(2018)"
   ]
  },
  {
   "cell_type": "code",
   "execution_count": 9,
   "metadata": {},
   "outputs": [
    {
     "name": "stdout",
     "output_type": "stream",
     "text": [
      "Standard deviation of jury points: 88.354\n",
      "Standard deviation of televoting points: 113.369\n",
      "Standard deviation of final points: 183.834\n"
     ]
    },
    {
     "data": {
      "image/png": "[encoded data removed]",
      "text/plain": [
       "<Figure size 432x288 with 1 Axes>"
      ]
     },
     "metadata": {
      "needs_background": "light"
     },
     "output_type": "display_data"
    },
    {
     "data": {
      "image/png": "[encoded data removed]",
      "text/plain": [
       "<Figure size 432x288 with 1 Axes>"
      ]
     },
     "metadata": {
      "needs_background": "light"
     },
     "output_type": "display_data"
    },
    {
     "data": {
      "image/png": "[encoded data removed]",
      "text/plain": [
       "<Figure size 432x288 with 1 Axes>"
      ]
     },
     "metadata": {
      "needs_background": "light"
     },
     "output_type": "display_data"
    }
   ],
   "source": [
    "pointDistribution(2017)"
   ]
  },
  {
   "cell_type": "code",
   "execution_count": 10,
   "metadata": {},
   "outputs": [
    {
     "name": "stdout",
     "output_type": "stream",
     "text": [
      "Standard deviation of jury points: 67.279\n",
      "Standard deviation of televoting points: 95.533\n",
      "Standard deviation of final points: 139.249\n"
     ]
    },
    {
     "data": {
      "image/png": "[encoded data removed]",
      "text/plain": [
       "<Figure size 432x288 with 1 Axes>"
      ]
     },
     "metadata": {
      "needs_background": "light"
     },
     "output_type": "display_data"
    },
    {
     "data": {
      "image/png": "[encoded data removed]",
      "text/plain": [
       "<Figure size 432x288 with 1 Axes>"
      ]
     },
     "metadata": {
      "needs_background": "light"
     },
     "output_type": "display_data"
    },
    {
     "data": {
      "image/png": "[encoded data removed]",
      "text/plain": [
       "<Figure size 432x288 with 1 Axes>"
      ]
     },
     "metadata": {
      "needs_background": "light"
     },
     "output_type": "display_data"
    }
   ],
   "source": [
    "pointDistribution(2016)"
   ]
  }
 ],
 "metadata": {
  "kernelspec": {
   "display_name": "Python 3",
   "language": "python",
   "name": "python3"
  },
  "language_info": {
   "codemirror_mode": {
    "name": "ipython",
    "version": 3
   },
   "file_extension": ".py",
   "mimetype": "text/x-python",
   "name": "python",
   "nbconvert_exporter": "python",
   "pygments_lexer": "ipython3",
   "version": "3.7.6"
  }
 },
 "nbformat": 4,
 "nbformat_minor": 4
}
